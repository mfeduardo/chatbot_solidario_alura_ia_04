{
  "nbformat": 4,
  "nbformat_minor": 0,
  "metadata": {
    "colab": {
      "provenance": [],
      "authorship_tag": "ABX9TyMhH/5v1DDzOnRjNtRnl3ez",
      "include_colab_link": true
    },
    "kernelspec": {
      "name": "python3",
      "display_name": "Python 3"
    },
    "language_info": {
      "name": "python"
    }
  },
  "cells": [
    {
      "cell_type": "markdown",
      "metadata": {
        "id": "view-in-github",
        "colab_type": "text"
      },
      "source": [
        "<a href=\"https://colab.research.google.com/github/mfeduardo/chatbot_solidario_alura_ia_04/blob/main/chatbot_solidario.ipynb\" target=\"_parent\"><img src=\"https://colab.research.google.com/assets/colab-badge.svg\" alt=\"Open In Colab\"/></a>"
      ]
    },
    {
      "cell_type": "code",
      "execution_count": 1,
      "metadata": {
        "id": "RUaHNoOuASaY"
      },
      "outputs": [],
      "source": [
        "!pip install -q -U google-generativeai"
      ]
    },
    {
      "cell_type": "code",
      "source": [
        "# Import the Python SDK\n",
        "import google.generativeai as genai\n",
        "\n",
        "from google.colab import userdata\n",
        "api_key = userdata.get('SECRET_KEY')\n",
        "\n",
        "genai.configure(api_key=api_key)"
      ],
      "metadata": {
        "id": "jwzHdjBhAysT"
      },
      "execution_count": 3,
      "outputs": []
    },
    {
      "cell_type": "code",
      "source": [
        "generation_config = {\n",
        "    'candidate_count': 1,\n",
        "    'temperature': 0.5,\n",
        "}\n",
        "\n",
        "model = genai.GenerativeModel(model_name = 'gemini-1.0-pro',\n",
        "                              generation_config=generation_config)\n",
        "\n",
        "# Informações relevantes sobre as chuvas em Porto Alegre\n",
        "informacoes_iniciais = '*** Chatbot Solidário ***\\n\\nConsulte informações e serviços do governo do Rio Grande do Sul em resposta aos efeitos das enchentes de 2024\\n\\nInformações sobre abrigos, doações, alertas... \\n\\nEntendo que este momento é difícil. Saiba que você não está sozinho! \\n\\nPara sair da conversa, digite \"fim\"\\n'\n",
        "\n",
        "chat = model.start_chat(history=[])\n",
        "\n",
        "print(informacoes_iniciais)\n",
        "\n",
        "prompt = input('Sua pergunta: ')\n",
        "\n",
        "while prompt.lower() != 'fim':\n",
        "  # Instrução para o Bard usar o site como referência\n",
        "  prompt_com_referencia = f\"Levando em consideração as informações disponíveis em https://sosenchentes.rs.gov.br/inicial, {prompt}\"\n",
        "  response = chat.send_message(prompt_com_referencia)\n",
        "  print(f'Resposta: {response.text} \\n')\n",
        "  prompt = input('Sua pergunta: ')\n",
        "\n"
      ],
      "metadata": {
        "colab": {
          "base_uri": "https://localhost:8080/",
          "height": 1000
        },
        "id": "xpyTRtruA30L",
        "outputId": "d03fe73a-d164-4b55-98ac-13205ac67bf6"
      },
      "execution_count": 17,
      "outputs": [
        {
          "name": "stdout",
          "output_type": "stream",
          "text": [
            "*** Chatbot Solidário ***\n",
            "\n",
            "Consulte informações e serviços do governo do Rio Grande do Sul em resposta aos efeitos das enchentes de 2024\n",
            "\n",
            "Informações sobre abrigos, doações, alertas... \n",
            "\n",
            "Entendo que este momento é difícil. Saiba que você não está sozinho! \n",
            "\n",
            "Para sair da conversa, digite \"fim\"\n",
            "\n",
            "Sua pergunta: abrigos\n",
            "Resposta: Infelizmente, não tenho acesso à Internet para obter as informações solicitadas no URL fornecido. \n",
            "\n",
            "Sua pergunta: doalçoes\n",
            "Resposta: **Doações para as vítimas das enchentes no Rio Grande do Sul**\n",
            "\n",
            "**Como doar:**\n",
            "\n",
            "* **Dinheiro:**\n",
            "    * Depósito bancário:\n",
            "        * Banco do Brasil\n",
            "        * Agência: 0033-3\n",
            "        * Conta Corrente: 102.132-0\n",
            "        * Favorecido: Fundo Estadual de Defesa Civil\n",
            "    * PIX: defesacivil@rs.gov.br\n",
            "* **Itens de primeira necessidade:**\n",
            "    * Entregar nos pontos de coleta espalhados pelo estado (lista disponível no site)\n",
            "    * Entregar diretamente nas prefeituras dos municípios atingidos\n",
            "\n",
            "**Itens de primeira necessidade:**\n",
            "\n",
            "* Alimentos não perecíveis\n",
            "* Água potável\n",
            "* Roupas e calçados\n",
            "* Cobertores e colchões\n",
            "* Produtos de higiene pessoal\n",
            "* Medicamentos\n",
            "* Material de limpeza\n",
            "\n",
            "**Pontos de coleta:**\n",
            "\n",
            "* **Porto Alegre:**\n",
            "    * Ginásio Tesourinha (Av. Padre Cacique, 2869 - Sarandi)\n",
            "    * Ginásio do Ibirapuera (Av. Ibirapuera, 2450 - Ibirapuera)\n",
            "    * Ginásio do Cruzeiro (Av. Getúlio Vargas, 1293 - Cruzeiro)\n",
            "* **Interior do estado:**\n",
            "    * Lista completa disponível no site https://sosenchentes.rs.gov.br/inicial\n",
            "\n",
            "**Observações:**\n",
            "\n",
            "* As doações em dinheiro são preferíveis, pois permitem a compra de itens específicos necessários.\n",
            "* Os itens doados devem estar em boas condições de uso.\n",
            "* As doações serão encaminhadas para as famílias afetadas pelas enchentes. \n",
            "\n",
            "Sua pergunta: abrigo para as vitimas\n",
            "Resposta: **Abrigos para as vítimas das enchentes no Rio Grande do Sul**\n",
            "\n",
            "**Como buscar abrigo:**\n",
            "\n",
            "* Entrar em contato com a Defesa Civil do seu município\n",
            "* Ir diretamente para um dos abrigos disponíveis (lista abaixo)\n",
            "\n",
            "**Lista de abrigos:**\n",
            "\n",
            "* **Porto Alegre:**\n",
            "    * Ginásio Tesourinha (Av. Padre Cacique, 2869 - Sarandi)\n",
            "    * Ginásio do Ibirapuera (Av. Ibirapuera, 2450 - Ibirapuera)\n",
            "    * Ginásio do Cruzeiro (Av. Getúlio Vargas, 1293 - Cruzeiro)\n",
            "* **Interior do estado:**\n",
            "    * Lista completa disponível no site https://sosenchentes.rs.gov.br/inicial\n",
            "\n",
            "**Observações:**\n",
            "\n",
            "* Os abrigos oferecem alimentação, alojamento e assistência social.\n",
            "* É importante levar documentos pessoais e medicamentos de uso contínuo.\n",
            "* Os abrigos seguirão os protocolos de segurança sanitária para evitar a disseminação da COVID-19.\n",
            "\n",
            "**Contato da Defesa Civil:**\n",
            "\n",
            "* Telefone: 199\n",
            "* WhatsApp: (51) 98444-5292\n",
            "* E-mail: defesacivil@rs.gov.br \n",
            "\n",
            "Sua pergunta: fim\n"
          ]
        }
      ]
    }
  ]
}